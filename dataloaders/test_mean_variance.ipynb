{
 "cells": [
  {
   "cell_type": "markdown",
   "metadata": {},
   "source": [
    "### Find mean and variance\n",
    "\n",
    "This notebooks helps to find the mean and the variance of the given dataset"
   ]
  },
  {
   "cell_type": "code",
   "execution_count": 14,
   "metadata": {},
   "outputs": [],
   "source": [
    "import torch\n",
    "from torchvision import datasets, transforms\n",
    "from torch.utils.data import DataLoader\n",
    "from torchvision.datasets import ImageFolder\n",
    "\n",
    "import os\n",
    "import sys\n",
    "sys.path.append(os.path.abspath(os.path.join(os.getcwd(), \"..\")))\n",
    "import dataloaders.nih_xray8 as nih_xray8\n",
    "import dataloaders.chexpert as chexpert\n",
    "import dataloaders.kaggle_rsna as kaggle_rsna"
   ]
  },
  {
   "cell_type": "code",
   "execution_count": 15,
   "metadata": {},
   "outputs": [],
   "source": [
    "data_dir = '/bigdata/chest_xray-3'\n",
    "dataset = ImageFolder(data_dir, transform=transforms.Compose([\n",
    "    transforms.Resize((224, 224)),\n",
    "    transforms.ToTensor()\n",
    "]))"
   ]
  },
  {
   "cell_type": "code",
   "execution_count": 16,
   "metadata": {},
   "outputs": [
    {
     "name": "stdout",
     "output_type": "stream",
     "text": [
      "Loading dataset...\n"
     ]
    }
   ],
   "source": [
    "data2_dir = '/bigdata/CheXpert-v1.0-small'\n",
    "\n",
    "transform2=transforms.Compose([ transforms.Resize((224, 224)),\n",
    "    transforms.ToTensor()])\n",
    "\n",
    "dataset2 = chexpert.CheXDataset(data2_dir, [transform2])"
   ]
  },
  {
   "cell_type": "code",
   "execution_count": 17,
   "metadata": {},
   "outputs": [
    {
     "name": "stdout",
     "output_type": "stream",
     "text": [
      "Loading dataset...\n"
     ]
    }
   ],
   "source": [
    "data3_dir = '/bigdata/kaggle-rsna'\n",
    "transform3=transforms.Compose([transforms.ToTensor()])\n",
    "dataset3 = kaggle_rsna.RSNADataset(data3_dir, [transform3])\n",
    "#dataset3.drop(0, 0.5, 42)"
   ]
  },
  {
   "cell_type": "code",
   "execution_count": 18,
   "metadata": {},
   "outputs": [],
   "source": [
    "dataloader = DataLoader(dataset2, batch_size=64, shuffle=False, num_workers=4)"
   ]
  },
  {
   "cell_type": "code",
   "execution_count": 19,
   "metadata": {},
   "outputs": [
    {
     "name": "stdout",
     "output_type": "stream",
     "text": [
      "Media: tensor([0.5017, 0.5017, 0.5017])\n",
      "Deviazione standard: tensor([0.2905, 0.2905, 0.2905])\n"
     ]
    }
   ],
   "source": [
    "# Itera sul dataset\n",
    "sum_ = torch.zeros(3)\n",
    "sum_sq = torch.zeros(3)\n",
    "num_pixels = 0\n",
    "for images, _ in dataloader:  # Ignora le etichette (_)\n",
    "    # Somma i valori pixel-per-pixel\n",
    "    sum_ += images.sum(dim=[0, 2, 3])  # Somma per batch, altezza e larghezza\n",
    "    sum_sq += (images ** 2).sum(dim=[0, 2, 3])  # Somma dei quadrati\n",
    "    num_pixels += images.size(0) * images.size(2) * images.size(3)  # Numero di pixel per canale\n",
    "\n",
    "# Calcola media e varianza\n",
    "mean = sum_ / num_pixels\n",
    "var = (sum_sq / num_pixels) - (mean ** 2)\n",
    "std = torch.sqrt(var)\n",
    "\n",
    "print(f\"Media: {mean}\")\n",
    "print(f\"Deviazione standard: {std}\")"
   ]
  }
 ],
 "metadata": {
  "kernelspec": {
   "display_name": ".venv",
   "language": "python",
   "name": "python3"
  },
  "language_info": {
   "codemirror_mode": {
    "name": "ipython",
    "version": 3
   },
   "file_extension": ".py",
   "mimetype": "text/x-python",
   "name": "python",
   "nbconvert_exporter": "python",
   "pygments_lexer": "ipython3",
   "version": "3.10.12"
  }
 },
 "nbformat": 4,
 "nbformat_minor": 2
}
